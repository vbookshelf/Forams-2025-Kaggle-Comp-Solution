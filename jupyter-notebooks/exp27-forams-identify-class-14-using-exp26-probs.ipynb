{
 "cells": [
  {
   "cell_type": "code",
   "execution_count": null,
   "id": "3b372bd0",
   "metadata": {
    "papermill": {
     "duration": 0.00487,
     "end_time": "2025-04-19T02:29:10.363940",
     "exception": false,
     "start_time": "2025-04-19T02:29:10.359070",
     "status": "completed"
    },
    "tags": []
   },
   "outputs": [],
   "source": []
  },
  {
   "cell_type": "code",
   "execution_count": 1,
   "id": "1c4939bb",
   "metadata": {
    "execution": {
     "iopub.execute_input": "2025-04-19T02:29:10.374511Z",
     "iopub.status.busy": "2025-04-19T02:29:10.374009Z",
     "iopub.status.idle": "2025-04-19T02:29:11.355282Z",
     "shell.execute_reply": "2025-04-19T02:29:11.354165Z"
    },
    "papermill": {
     "duration": 0.988859,
     "end_time": "2025-04-19T02:29:11.357225",
     "exception": false,
     "start_time": "2025-04-19T02:29:10.368366",
     "status": "completed"
    },
    "tags": []
   },
   "outputs": [],
   "source": [
    "import pandas as pd\n",
    "import numpy as np\n",
    "import os\n",
    "\n",
    "import matplotlib.pyplot as plt"
   ]
  },
  {
   "cell_type": "code",
   "execution_count": 2,
   "id": "48abaa7b",
   "metadata": {
    "execution": {
     "iopub.execute_input": "2025-04-19T02:29:11.367307Z",
     "iopub.status.busy": "2025-04-19T02:29:11.366796Z",
     "iopub.status.idle": "2025-04-19T02:29:11.371271Z",
     "shell.execute_reply": "2025-04-19T02:29:11.370199Z"
    },
    "papermill": {
     "duration": 0.01114,
     "end_time": "2025-04-19T02:29:11.372833",
     "exception": false,
     "start_time": "2025-04-19T02:29:11.361693",
     "status": "completed"
    },
    "tags": []
   },
   "outputs": [],
   "source": [
    "THRESH = 0.25"
   ]
  },
  {
   "cell_type": "code",
   "execution_count": 3,
   "id": "55c5689e",
   "metadata": {
    "execution": {
     "iopub.execute_input": "2025-04-19T02:29:11.382607Z",
     "iopub.status.busy": "2025-04-19T02:29:11.382258Z",
     "iopub.status.idle": "2025-04-19T02:29:11.386501Z",
     "shell.execute_reply": "2025-04-19T02:29:11.385566Z"
    },
    "papermill": {
     "duration": 0.011008,
     "end_time": "2025-04-19T02:29:11.388212",
     "exception": false,
     "start_time": "2025-04-19T02:29:11.377204",
     "status": "completed"
    },
    "tags": []
   },
   "outputs": [],
   "source": [
    "base_path = '../input/forams-classification-2025'"
   ]
  },
  {
   "cell_type": "code",
   "execution_count": 4,
   "id": "2b50c0d6",
   "metadata": {
    "execution": {
     "iopub.execute_input": "2025-04-19T02:29:11.398195Z",
     "iopub.status.busy": "2025-04-19T02:29:11.397801Z",
     "iopub.status.idle": "2025-04-19T02:29:11.413984Z",
     "shell.execute_reply": "2025-04-19T02:29:11.412866Z"
    },
    "papermill": {
     "duration": 0.022924,
     "end_time": "2025-04-19T02:29:11.415605",
     "exception": false,
     "start_time": "2025-04-19T02:29:11.392681",
     "status": "completed"
    },
    "tags": []
   },
   "outputs": [
    {
     "data": {
      "text/plain": [
       "['__results__.html',\n",
       " 'df_pseudo.csv',\n",
       " '__huggingface_repos__.json',\n",
       " 'submission.csv',\n",
       " 'requirements.txt',\n",
       " '__notebook__.ipynb',\n",
       " '__output__.json',\n",
       " 'custom.css']"
      ]
     },
     "execution_count": 4,
     "metadata": {},
     "output_type": "execute_result"
    }
   ],
   "source": [
    "os.listdir('../input/exp26-forams-create-pseudo-data-exp23-exp24/')"
   ]
  },
  {
   "cell_type": "markdown",
   "id": "d5b16404",
   "metadata": {
    "papermill": {
     "duration": 0.004138,
     "end_time": "2025-04-19T02:29:11.424284",
     "exception": false,
     "start_time": "2025-04-19T02:29:11.420146",
     "status": "completed"
    },
    "tags": []
   },
   "source": [
    "## Load the pseudo data"
   ]
  },
  {
   "cell_type": "code",
   "execution_count": 5,
   "id": "852fd37a",
   "metadata": {
    "execution": {
     "iopub.execute_input": "2025-04-19T02:29:11.433774Z",
     "iopub.status.busy": "2025-04-19T02:29:11.433399Z",
     "iopub.status.idle": "2025-04-19T02:29:11.501579Z",
     "shell.execute_reply": "2025-04-19T02:29:11.500462Z"
    },
    "papermill": {
     "duration": 0.074652,
     "end_time": "2025-04-19T02:29:11.503078",
     "exception": false,
     "start_time": "2025-04-19T02:29:11.428426",
     "status": "completed"
    },
    "tags": []
   },
   "outputs": [
    {
     "name": "stdout",
     "output_type": "stream",
     "text": [
      "(18216, 7)\n"
     ]
    },
    {
     "data": {
      "text/html": [
       "<div>\n",
       "<style scoped>\n",
       "    .dataframe tbody tr th:only-of-type {\n",
       "        vertical-align: middle;\n",
       "    }\n",
       "\n",
       "    .dataframe tbody tr th {\n",
       "        vertical-align: top;\n",
       "    }\n",
       "\n",
       "    .dataframe thead th {\n",
       "        text-align: right;\n",
       "    }\n",
       "</style>\n",
       "<table border=\"1\" class=\"dataframe\">\n",
       "  <thead>\n",
       "    <tr style=\"text-align: right;\">\n",
       "      <th></th>\n",
       "      <th>id</th>\n",
       "      <th>image_fname</th>\n",
       "      <th>label</th>\n",
       "      <th>image_used</th>\n",
       "      <th>target</th>\n",
       "      <th>score</th>\n",
       "      <th>source</th>\n",
       "    </tr>\n",
       "  </thead>\n",
       "  <tbody>\n",
       "    <tr>\n",
       "      <th>0</th>\n",
       "      <td>0</td>\n",
       "      <td>foram_00000.jpg</td>\n",
       "      <td>0</td>\n",
       "      <td>top</td>\n",
       "      <td>10</td>\n",
       "      <td>0.999540</td>\n",
       "      <td>pseudo</td>\n",
       "    </tr>\n",
       "    <tr>\n",
       "      <th>1</th>\n",
       "      <td>1</td>\n",
       "      <td>foram_00001.jpg</td>\n",
       "      <td>0</td>\n",
       "      <td>top</td>\n",
       "      <td>1</td>\n",
       "      <td>0.661948</td>\n",
       "      <td>pseudo</td>\n",
       "    </tr>\n",
       "    <tr>\n",
       "      <th>2</th>\n",
       "      <td>2</td>\n",
       "      <td>foram_00002.jpg</td>\n",
       "      <td>0</td>\n",
       "      <td>top</td>\n",
       "      <td>2</td>\n",
       "      <td>0.760579</td>\n",
       "      <td>pseudo</td>\n",
       "    </tr>\n",
       "    <tr>\n",
       "      <th>3</th>\n",
       "      <td>3</td>\n",
       "      <td>foram_00003.jpg</td>\n",
       "      <td>0</td>\n",
       "      <td>top</td>\n",
       "      <td>4</td>\n",
       "      <td>0.542271</td>\n",
       "      <td>pseudo</td>\n",
       "    </tr>\n",
       "    <tr>\n",
       "      <th>4</th>\n",
       "      <td>4</td>\n",
       "      <td>foram_00004.jpg</td>\n",
       "      <td>0</td>\n",
       "      <td>top</td>\n",
       "      <td>10</td>\n",
       "      <td>0.999783</td>\n",
       "      <td>pseudo</td>\n",
       "    </tr>\n",
       "  </tbody>\n",
       "</table>\n",
       "</div>"
      ],
      "text/plain": [
       "   id      image_fname  label image_used  target     score  source\n",
       "0   0  foram_00000.jpg      0        top      10  0.999540  pseudo\n",
       "1   1  foram_00001.jpg      0        top       1  0.661948  pseudo\n",
       "2   2  foram_00002.jpg      0        top       2  0.760579  pseudo\n",
       "3   3  foram_00003.jpg      0        top       4  0.542271  pseudo\n",
       "4   4  foram_00004.jpg      0        top      10  0.999783  pseudo"
      ]
     },
     "execution_count": 5,
     "metadata": {},
     "output_type": "execute_result"
    }
   ],
   "source": [
    "path = '../input/exp26-forams-create-pseudo-data-exp23-exp24/df_pseudo.csv'\n",
    "\n",
    "df_pseudo = pd.read_csv(path)\n",
    "\n",
    "print(df_pseudo.shape)\n",
    "\n",
    "df_pseudo.head()"
   ]
  },
  {
   "cell_type": "markdown",
   "id": "7c11adff",
   "metadata": {
    "papermill": {
     "duration": 0.004315,
     "end_time": "2025-04-19T02:29:11.512506",
     "exception": false,
     "start_time": "2025-04-19T02:29:11.508191",
     "status": "completed"
    },
    "tags": []
   },
   "source": [
    "## Filter the pseudo data"
   ]
  },
  {
   "cell_type": "code",
   "execution_count": 6,
   "id": "776f41b2",
   "metadata": {
    "execution": {
     "iopub.execute_input": "2025-04-19T02:29:11.523688Z",
     "iopub.status.busy": "2025-04-19T02:29:11.523334Z",
     "iopub.status.idle": "2025-04-19T02:29:11.543446Z",
     "shell.execute_reply": "2025-04-19T02:29:11.542168Z"
    },
    "papermill": {
     "duration": 0.02825,
     "end_time": "2025-04-19T02:29:11.545669",
     "exception": false,
     "start_time": "2025-04-19T02:29:11.517419",
     "status": "completed"
    },
    "tags": []
   },
   "outputs": [
    {
     "name": "stdout",
     "output_type": "stream",
     "text": [
      "(26, 7)\n"
     ]
    },
    {
     "data": {
      "text/html": [
       "<div>\n",
       "<style scoped>\n",
       "    .dataframe tbody tr th:only-of-type {\n",
       "        vertical-align: middle;\n",
       "    }\n",
       "\n",
       "    .dataframe tbody tr th {\n",
       "        vertical-align: top;\n",
       "    }\n",
       "\n",
       "    .dataframe thead th {\n",
       "        text-align: right;\n",
       "    }\n",
       "</style>\n",
       "<table border=\"1\" class=\"dataframe\">\n",
       "  <thead>\n",
       "    <tr style=\"text-align: right;\">\n",
       "      <th></th>\n",
       "      <th>id</th>\n",
       "      <th>image_fname</th>\n",
       "      <th>label</th>\n",
       "      <th>image_used</th>\n",
       "      <th>target</th>\n",
       "      <th>score</th>\n",
       "      <th>source</th>\n",
       "    </tr>\n",
       "  </thead>\n",
       "  <tbody>\n",
       "    <tr>\n",
       "      <th>0</th>\n",
       "      <td>785</td>\n",
       "      <td>foram_00785.jpg</td>\n",
       "      <td>0</td>\n",
       "      <td>top</td>\n",
       "      <td>10</td>\n",
       "      <td>0.220132</td>\n",
       "      <td>pseudo</td>\n",
       "    </tr>\n",
       "    <tr>\n",
       "      <th>1</th>\n",
       "      <td>1027</td>\n",
       "      <td>foram_01027.jpg</td>\n",
       "      <td>0</td>\n",
       "      <td>top</td>\n",
       "      <td>11</td>\n",
       "      <td>0.247447</td>\n",
       "      <td>pseudo</td>\n",
       "    </tr>\n",
       "    <tr>\n",
       "      <th>2</th>\n",
       "      <td>1711</td>\n",
       "      <td>foram_01711.jpg</td>\n",
       "      <td>0</td>\n",
       "      <td>top</td>\n",
       "      <td>8</td>\n",
       "      <td>0.212337</td>\n",
       "      <td>pseudo</td>\n",
       "    </tr>\n",
       "    <tr>\n",
       "      <th>3</th>\n",
       "      <td>4043</td>\n",
       "      <td>foram_04043.jpg</td>\n",
       "      <td>0</td>\n",
       "      <td>top</td>\n",
       "      <td>4</td>\n",
       "      <td>0.201455</td>\n",
       "      <td>pseudo</td>\n",
       "    </tr>\n",
       "    <tr>\n",
       "      <th>4</th>\n",
       "      <td>5550</td>\n",
       "      <td>foram_05550.jpg</td>\n",
       "      <td>0</td>\n",
       "      <td>top</td>\n",
       "      <td>2</td>\n",
       "      <td>0.248580</td>\n",
       "      <td>pseudo</td>\n",
       "    </tr>\n",
       "  </tbody>\n",
       "</table>\n",
       "</div>"
      ],
      "text/plain": [
       "     id      image_fname  label image_used  target     score  source\n",
       "0   785  foram_00785.jpg      0        top      10  0.220132  pseudo\n",
       "1  1027  foram_01027.jpg      0        top      11  0.247447  pseudo\n",
       "2  1711  foram_01711.jpg      0        top       8  0.212337  pseudo\n",
       "3  4043  foram_04043.jpg      0        top       4  0.201455  pseudo\n",
       "4  5550  foram_05550.jpg      0        top       2  0.248580  pseudo"
      ]
     },
     "execution_count": 6,
     "metadata": {},
     "output_type": "execute_result"
    }
   ],
   "source": [
    "df_filtered = df_pseudo[df_pseudo['score'] <= THRESH]\n",
    "\n",
    "df_filtered = df_filtered.reset_index(drop=True)\n",
    "\n",
    "print(df_filtered.shape)\n",
    "\n",
    "df_filtered.head()"
   ]
  },
  {
   "cell_type": "code",
   "execution_count": 7,
   "id": "67453f4a",
   "metadata": {
    "execution": {
     "iopub.execute_input": "2025-04-19T02:29:11.557209Z",
     "iopub.status.busy": "2025-04-19T02:29:11.556825Z",
     "iopub.status.idle": "2025-04-19T02:29:11.562702Z",
     "shell.execute_reply": "2025-04-19T02:29:11.561848Z"
    },
    "papermill": {
     "duration": 0.013146,
     "end_time": "2025-04-19T02:29:11.564138",
     "exception": false,
     "start_time": "2025-04-19T02:29:11.550992",
     "status": "completed"
    },
    "tags": []
   },
   "outputs": [
    {
     "data": {
      "text/plain": [
       "26"
      ]
     },
     "execution_count": 7,
     "metadata": {},
     "output_type": "execute_result"
    }
   ],
   "source": [
    "id_list = list(df_filtered['id'])\n",
    "\n",
    "len(id_list)"
   ]
  },
  {
   "cell_type": "markdown",
   "id": "64c67372",
   "metadata": {
    "papermill": {
     "duration": 0.004493,
     "end_time": "2025-04-19T02:29:11.573622",
     "exception": false,
     "start_time": "2025-04-19T02:29:11.569129",
     "status": "completed"
    },
    "tags": []
   },
   "source": [
    "## Load the submission csv file"
   ]
  },
  {
   "cell_type": "code",
   "execution_count": 8,
   "id": "682a0fd6",
   "metadata": {
    "execution": {
     "iopub.execute_input": "2025-04-19T02:29:11.584426Z",
     "iopub.status.busy": "2025-04-19T02:29:11.584031Z",
     "iopub.status.idle": "2025-04-19T02:29:11.604882Z",
     "shell.execute_reply": "2025-04-19T02:29:11.603657Z"
    },
    "papermill": {
     "duration": 0.028315,
     "end_time": "2025-04-19T02:29:11.606683",
     "exception": false,
     "start_time": "2025-04-19T02:29:11.578368",
     "status": "completed"
    },
    "tags": []
   },
   "outputs": [
    {
     "name": "stdout",
     "output_type": "stream",
     "text": [
      "(18216, 2)\n"
     ]
    },
    {
     "data": {
      "text/html": [
       "<div>\n",
       "<style scoped>\n",
       "    .dataframe tbody tr th:only-of-type {\n",
       "        vertical-align: middle;\n",
       "    }\n",
       "\n",
       "    .dataframe tbody tr th {\n",
       "        vertical-align: top;\n",
       "    }\n",
       "\n",
       "    .dataframe thead th {\n",
       "        text-align: right;\n",
       "    }\n",
       "</style>\n",
       "<table border=\"1\" class=\"dataframe\">\n",
       "  <thead>\n",
       "    <tr style=\"text-align: right;\">\n",
       "      <th></th>\n",
       "      <th>id</th>\n",
       "      <th>label</th>\n",
       "    </tr>\n",
       "  </thead>\n",
       "  <tbody>\n",
       "    <tr>\n",
       "      <th>0</th>\n",
       "      <td>0</td>\n",
       "      <td>10</td>\n",
       "    </tr>\n",
       "    <tr>\n",
       "      <th>1</th>\n",
       "      <td>1</td>\n",
       "      <td>1</td>\n",
       "    </tr>\n",
       "    <tr>\n",
       "      <th>2</th>\n",
       "      <td>2</td>\n",
       "      <td>2</td>\n",
       "    </tr>\n",
       "    <tr>\n",
       "      <th>3</th>\n",
       "      <td>3</td>\n",
       "      <td>4</td>\n",
       "    </tr>\n",
       "    <tr>\n",
       "      <th>4</th>\n",
       "      <td>4</td>\n",
       "      <td>10</td>\n",
       "    </tr>\n",
       "  </tbody>\n",
       "</table>\n",
       "</div>"
      ],
      "text/plain": [
       "   id  label\n",
       "0   0     10\n",
       "1   1      1\n",
       "2   2      2\n",
       "3   3      4\n",
       "4   4     10"
      ]
     },
     "execution_count": 8,
     "metadata": {},
     "output_type": "execute_result"
    }
   ],
   "source": [
    "path = '../input/exp26-forams-create-pseudo-data-exp23-exp24/submission.csv'\n",
    "\n",
    "df_sub = pd.read_csv(path)\n",
    "\n",
    "print(df_sub.shape)\n",
    "\n",
    "df_sub.head()"
   ]
  },
  {
   "cell_type": "markdown",
   "id": "ae73c15a",
   "metadata": {
    "papermill": {
     "duration": 0.004971,
     "end_time": "2025-04-19T02:29:11.616935",
     "exception": false,
     "start_time": "2025-04-19T02:29:11.611964",
     "status": "completed"
    },
    "tags": []
   },
   "source": [
    "## Change preds to class 14"
   ]
  },
  {
   "cell_type": "code",
   "execution_count": 9,
   "id": "cc42a918",
   "metadata": {
    "execution": {
     "iopub.execute_input": "2025-04-19T02:29:11.628198Z",
     "iopub.status.busy": "2025-04-19T02:29:11.627844Z",
     "iopub.status.idle": "2025-04-19T02:29:11.634024Z",
     "shell.execute_reply": "2025-04-19T02:29:11.633043Z"
    },
    "papermill": {
     "duration": 0.013696,
     "end_time": "2025-04-19T02:29:11.635673",
     "exception": false,
     "start_time": "2025-04-19T02:29:11.621977",
     "status": "completed"
    },
    "tags": []
   },
   "outputs": [],
   "source": [
    "# Set the labels of fragmented forams to 14\n",
    "\n",
    "for item in id_list:\n",
    "\n",
    "    df_sub.loc[item, 'label'] = 14"
   ]
  },
  {
   "cell_type": "code",
   "execution_count": 10,
   "id": "f719082d",
   "metadata": {
    "execution": {
     "iopub.execute_input": "2025-04-19T02:29:11.647288Z",
     "iopub.status.busy": "2025-04-19T02:29:11.646900Z",
     "iopub.status.idle": "2025-04-19T02:29:11.663006Z",
     "shell.execute_reply": "2025-04-19T02:29:11.661686Z"
    },
    "papermill": {
     "duration": 0.024254,
     "end_time": "2025-04-19T02:29:11.665140",
     "exception": false,
     "start_time": "2025-04-19T02:29:11.640886",
     "status": "completed"
    },
    "tags": []
   },
   "outputs": [
    {
     "data": {
      "text/plain": [
       "label\n",
       "6     3248\n",
       "5     3110\n",
       "9     1853\n",
       "4     1734\n",
       "11    1687\n",
       "2     1378\n",
       "13    1208\n",
       "7     1149\n",
       "1     1110\n",
       "0      708\n",
       "8      466\n",
       "10     280\n",
       "3      139\n",
       "12     120\n",
       "14      26\n",
       "Name: count, dtype: int64"
      ]
     },
     "execution_count": 10,
     "metadata": {},
     "output_type": "execute_result"
    }
   ],
   "source": [
    "df_sub['label'].value_counts()"
   ]
  },
  {
   "cell_type": "markdown",
   "id": "bebb5ade",
   "metadata": {
    "papermill": {
     "duration": 0.005027,
     "end_time": "2025-04-19T02:29:11.675715",
     "exception": false,
     "start_time": "2025-04-19T02:29:11.670688",
     "status": "completed"
    },
    "tags": []
   },
   "source": [
    "## Save the submission csv file"
   ]
  },
  {
   "cell_type": "code",
   "execution_count": 11,
   "id": "c3e17dcc",
   "metadata": {
    "execution": {
     "iopub.execute_input": "2025-04-19T02:29:11.687513Z",
     "iopub.status.busy": "2025-04-19T02:29:11.687155Z",
     "iopub.status.idle": "2025-04-19T02:29:11.710656Z",
     "shell.execute_reply": "2025-04-19T02:29:11.709537Z"
    },
    "papermill": {
     "duration": 0.031689,
     "end_time": "2025-04-19T02:29:11.712595",
     "exception": false,
     "start_time": "2025-04-19T02:29:11.680906",
     "status": "completed"
    },
    "tags": []
   },
   "outputs": [],
   "source": [
    "# Create a submission csv file\n",
    "\n",
    "path = 'submission.csv'\n",
    "df_sub.to_csv(path, index=False)"
   ]
  },
  {
   "cell_type": "code",
   "execution_count": null,
   "id": "accf5f1d",
   "metadata": {
    "papermill": {
     "duration": 0.005128,
     "end_time": "2025-04-19T02:29:11.723678",
     "exception": false,
     "start_time": "2025-04-19T02:29:11.718550",
     "status": "completed"
    },
    "tags": []
   },
   "outputs": [],
   "source": []
  },
  {
   "cell_type": "code",
   "execution_count": 12,
   "id": "853270f9",
   "metadata": {
    "execution": {
     "iopub.execute_input": "2025-04-19T02:29:11.735599Z",
     "iopub.status.busy": "2025-04-19T02:29:11.735232Z",
     "iopub.status.idle": "2025-04-19T02:29:15.172804Z",
     "shell.execute_reply": "2025-04-19T02:29:15.171216Z"
    },
    "papermill": {
     "duration": 3.445959,
     "end_time": "2025-04-19T02:29:15.174958",
     "exception": false,
     "start_time": "2025-04-19T02:29:11.728999",
     "status": "completed"
    },
    "tags": []
   },
   "outputs": [],
   "source": [
    "# Create a requirements.txt file\n",
    "# This is a list of all packages and their versions that were \n",
    "# used to create this solution.\n",
    "\n",
    "!pip freeze > requirements.txt"
   ]
  },
  {
   "cell_type": "code",
   "execution_count": 13,
   "id": "0bb434df",
   "metadata": {
    "execution": {
     "iopub.execute_input": "2025-04-19T02:29:15.187415Z",
     "iopub.status.busy": "2025-04-19T02:29:15.186990Z",
     "iopub.status.idle": "2025-04-19T02:29:15.310665Z",
     "shell.execute_reply": "2025-04-19T02:29:15.309321Z"
    },
    "papermill": {
     "duration": 0.132092,
     "end_time": "2025-04-19T02:29:15.312814",
     "exception": false,
     "start_time": "2025-04-19T02:29:15.180722",
     "status": "completed"
    },
    "tags": []
   },
   "outputs": [
    {
     "name": "stdout",
     "output_type": "stream",
     "text": [
      "__notebook__.ipynb  requirements.txt  submission.csv\r\n"
     ]
    }
   ],
   "source": [
    "!ls"
   ]
  },
  {
   "cell_type": "code",
   "execution_count": null,
   "id": "4748dc3c",
   "metadata": {
    "papermill": {
     "duration": 0.005665,
     "end_time": "2025-04-19T02:29:15.324413",
     "exception": false,
     "start_time": "2025-04-19T02:29:15.318748",
     "status": "completed"
    },
    "tags": []
   },
   "outputs": [],
   "source": []
  }
 ],
 "metadata": {
  "kaggle": {
   "accelerator": "none",
   "dataSources": [
    {
     "databundleVersionId": 11605086,
     "sourceId": 94689,
     "sourceType": "competition"
    },
    {
     "sourceId": 234737888,
     "sourceType": "kernelVersion"
    }
   ],
   "dockerImageVersionId": 30918,
   "isGpuEnabled": false,
   "isInternetEnabled": true,
   "language": "python",
   "sourceType": "notebook"
  },
  "kernelspec": {
   "display_name": "Python 3",
   "language": "python",
   "name": "python3"
  },
  "language_info": {
   "codemirror_mode": {
    "name": "ipython",
    "version": 3
   },
   "file_extension": ".py",
   "mimetype": "text/x-python",
   "name": "python",
   "nbconvert_exporter": "python",
   "pygments_lexer": "ipython3",
   "version": "3.10.12"
  },
  "papermill": {
   "default_parameters": {},
   "duration": 9.151524,
   "end_time": "2025-04-19T02:29:15.951382",
   "environment_variables": {},
   "exception": null,
   "input_path": "__notebook__.ipynb",
   "output_path": "__notebook__.ipynb",
   "parameters": {},
   "start_time": "2025-04-19T02:29:06.799858",
   "version": "2.6.0"
  }
 },
 "nbformat": 4,
 "nbformat_minor": 5
}
